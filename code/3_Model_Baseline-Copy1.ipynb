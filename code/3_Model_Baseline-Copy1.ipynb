{
 "cells": [
  {
   "cell_type": "markdown",
   "id": "bcd77029-99ac-494c-9a18-d63f47543e1b",
   "metadata": {},
   "source": [
    "---\n",
    "# Project 2 : Ames Housing Data and Kaggle Challenge"
   ]
  },
  {
   "cell_type": "markdown",
   "id": "67beefcf-c9d3-46eb-9514-749290d258d2",
   "metadata": {
    "tags": []
   },
   "source": [
    "---\n",
    "## Part III. Modelling & Insights\n",
    "---"
   ]
  },
  {
   "cell_type": "markdown",
   "id": "a0cc41dc-bb91-4c61-8b78-d4de94625a05",
   "metadata": {},
   "source": [
    "Now that the housing data has been cleaned and processed, can create a model to predict sales prices while also being able to infer relationships between the features and sales prices. Will perform scaling and regularization at the end of the notebook, after evaluating coefficients of the multiple linear regression (MLR) model, and determining whether or not the MLR assumptions hold true."
   ]
  },
  {
   "cell_type": "code",
   "execution_count": 41,
   "id": "aea9e814-e628-4d99-9b94-c09e3df9f8c6",
   "metadata": {},
   "outputs": [],
   "source": [
    "import pandas as pd\n",
    "import numpy as np\n",
    "import matplotlib.pyplot as plt\n",
    "\n",
    "# Imports specific to Linear Regression\n",
    "from sklearn.model_selection import train_test_split, cross_val_score\n",
    "from sklearn.linear_model import LinearRegression"
   ]
  },
  {
   "cell_type": "code",
   "execution_count": 3,
   "id": "68e18083-48b4-472e-a3ae-df24ce33808a",
   "metadata": {},
   "outputs": [],
   "source": [
    "# Read in the train and test data.\n",
    "train_df = pd.read_csv('../datasets/train_clean.csv')\n",
    "test_df = pd.read_csv('../datasets/test_clean.csv')"
   ]
  },
  {
   "cell_type": "markdown",
   "id": "c8edde8b-bfde-4bff-a9c3-64692ec3568c",
   "metadata": {},
   "source": [
    "---\n",
    "### Multiple Linear Regression\n",
    "---\n",
    "To begin, selected most correlated numeric variables with sale price (from heat map) in our training data and the categorical columns that were encoded numerically in the previous notebook."
   ]
  },
  {
   "cell_type": "code",
   "execution_count": 12,
   "id": "785e3c9b-518e-4df6-afcb-6665f40691de",
   "metadata": {},
   "outputs": [],
   "source": [
    "# Perform train-test split.\n",
    "# Don't include saleprice or id number in X. \n",
    "features = train_df.drop(columns = ['id', 'saleprice']).columns\n",
    "\n",
    "X = train_df[features]\n",
    "y = train_df['saleprice']"
   ]
  },
  {
   "cell_type": "code",
   "execution_count": 13,
   "id": "d72b6c0b-120a-4a16-a3f0-dfece8bb9808",
   "metadata": {},
   "outputs": [
    {
     "data": {
      "text/plain": [
       "0.7928956942461509"
      ]
     },
     "execution_count": 13,
     "metadata": {},
     "output_type": "execute_result"
    }
   ],
   "source": [
    "X_train, X_test, y_train, y_test = train_test_split(X, y, random_state = 42)\n",
    "lr_1 = LinearRegression()\n",
    "lr_1.fit(X_train, y_train)\n",
    "\n",
    "lr_1.score(X_train, y_train)"
   ]
  },
  {
   "cell_type": "markdown",
   "id": "a2aa7aa6-83ac-41f7-9569-537ae78ece17",
   "metadata": {},
   "source": [
    "### Interpretation of Baseline Score:\n",
    "79% of variation in sale price can be explained by the features in this multiple linear regression model. This is the R2 score, or the coefficient of determination."
   ]
  },
  {
   "cell_type": "code",
   "execution_count": 14,
   "id": "065aa7c5-557a-44b3-8d6f-db21c07b5c5d",
   "metadata": {},
   "outputs": [
    {
     "data": {
      "text/plain": [
       "0.7592375862015722"
      ]
     },
     "execution_count": 14,
     "metadata": {},
     "output_type": "execute_result"
    }
   ],
   "source": [
    "cross_val_score(lr_1, X_train, y_train, cv = 5).mean()"
   ]
  },
  {
   "cell_type": "markdown",
   "id": "ab902956-854a-4551-803b-371f58f06efe",
   "metadata": {},
   "source": [
    "### Interpretation of Cross Validation Score:"
   ]
  },
  {
   "cell_type": "markdown",
   "id": "54c55101-a132-44d5-86c9-798bfbdbfba8",
   "metadata": {},
   "source": [
    "Since the cross val score is not as high as the baseline, suggests the model isn't as good as its R2 suggested."
   ]
  },
  {
   "cell_type": "code",
   "execution_count": 10,
   "id": "cbcffbab-00e1-4684-b6b8-fea61c5b9ee6",
   "metadata": {},
   "outputs": [],
   "source": [
    "# Save sale price predictions as csv.\n",
    "test_preds = lr_1.predict(test_df[features])\n",
    "test_df['saleprice'] = test_preds\n",
    "test_df[['id','saleprice']].to_csv('../datasets/MLR.csv', index = False)"
   ]
  },
  {
   "cell_type": "markdown",
   "id": "0dc27eb6-b6b3-42fb-b16a-1d714addc21e",
   "metadata": {},
   "source": [
    "### Interpretation of Coefficients:"
   ]
  },
  {
   "cell_type": "code",
   "execution_count": 32,
   "id": "156b2d84-3cfe-47bf-a17c-42f0ed544faf",
   "metadata": {},
   "outputs": [
    {
     "data": {
      "text/plain": [
       "array([ 8.34023394e-01,  3.89765273e+01,  5.12830765e+01,  2.17758039e+04,\n",
       "        1.22780613e+01, -4.32350415e+02, -2.40586375e+03, -1.80500600e+04,\n",
       "       -1.56136959e+04, -1.07511007e+04,  1.67611078e+04,  1.25671395e+04,\n",
       "        2.62629430e+04, -9.01019272e+03, -5.50681044e+02,  1.90428163e+04,\n",
       "        3.73227541e+03, -9.85651383e+03,  7.65878103e+04, -9.74507436e+03])"
      ]
     },
     "execution_count": 32,
     "metadata": {},
     "output_type": "execute_result"
    }
   ],
   "source": [
    "lr_1.coef_"
   ]
  },
  {
   "cell_type": "code",
   "execution_count": 64,
   "id": "40469465-edf4-47b7-b6cc-dd9709064b05",
   "metadata": {},
   "outputs": [],
   "source": [
    "# Going to create a table of the coefficients, using code from lecture 3.02.\n",
    "# Zip coef_ with the features list\n",
    "list(zip(lr_1.coef_, features))\n",
    "df_coef = pd.DataFrame(lr_1.coef_, index = features, columns = ['Coefficient']).sort_values(by = ['Coefficient'])"
   ]
  },
  {
   "cell_type": "markdown",
   "id": "bbef1371-5cb9-43b0-b957-18e875d7c82e",
   "metadata": {},
   "source": [
    "Coefficient interpretation:\n",
    "|Feature|Coefficient|\n",
    "|---|---|\n",
    "|Duplex|-18050.060004|\n",
    "|Townhouse Inside Unit|-15613.695881|\n",
    "|Townhouse End Unit|-10751.100709|\n",
    "|No Remodel|-9856.513834\n",
    "|No Fireplace|-9745.074356|\n",
    "|2.5 story:2nd Level Unfinished|-9010.192718|\n",
    "|2 Family Conversion|-2405.863749|\n",
    "|2 Story|-550.681044|\n",
    "|House Age|-432.350415|\n",
    "|Lot Area|0.834023|\n",
    "|Total Basement Area|12.278061|\n",
    "|Garage Area|38.976527|\n",
    "|Above Ground Living Area|51.283077|\n",
    "|Split Level|3732.275411|\n",
    "|1 Story|12567.139463|\n",
    "|1.5Unf|16761.107787|\n",
    "|Split Foyer|19042.816344|\n",
    "|Overall Quality|21775.803903|\n",
    "|2.5 Stories|26262.943041|\n",
    "|No Pool|76587.810325|"
   ]
  },
  {
   "cell_type": "markdown",
   "id": "e6e12863-e061-4e71-8471-f037fc3ea577",
   "metadata": {},
   "source": [
    "Looking at our table of coefficients, the three \"less desirable\" features are all building types. We can infer that duplexes, townhouse inside unit and townhouses end units are correlated with lower market prices. \n",
    "\n",
    "The three \"most desirable\" features are not having a pool, the house being a 2.5 stories and the overall quality being high. To interpret precisely, for overall quality for example, holding all else equal, a 1 unit increase on the quality scale is associated with an increase in sale price of 21,775 dollars, holding all other features equal."
   ]
  },
  {
   "cell_type": "code",
   "execution_count": 70,
   "id": "6f49bd37-18c7-4609-87aa-7fb11af61aec",
   "metadata": {},
   "outputs": [
    {
     "data": {
      "image/png": "[encoded data removed]",
      "text/plain": [
       "<Figure size 640x480 with 1 Axes>"
      ]
     },
     "metadata": {},
     "output_type": "display_data"
    }
   ],
   "source": [
    "# Show coefficients visually.\n",
    "pd.DataFrame(lr_1.coef_, index = features, columns = ['Coefficient']).sort_values(by = ['Coefficient']).plot(kind = 'barh', color = 'purple');\n",
    "plt.title('Coefficients of Housing Features in Multiple Linear Regression Model Predicting Sale Price');\n",
    "\n",
    "plt.tight_layout()\n",
    "plt.savefig('../images/coefficients.png');"
   ]
  },
  {
   "cell_type": "markdown",
   "id": "757b34a1-72f2-44fa-98b8-39a23719c981",
   "metadata": {
    "tags": []
   },
   "source": [
    "---\n",
    "### Ridge \n",
    "---\n",
    "\n",
    "Ridge is a regularisation technique used to help when model is overfit, by imposing a penalty on the coefficients. Since my model doesn't seem to have too high of an R2 or too many features, would suspect it is not overfit but definitely worth checking. "
   ]
  },
  {
   "cell_type": "code",
   "execution_count": null,
   "id": "53b5d4d4-d863-4725-b5b8-9170e8a62951",
   "metadata": {},
   "outputs": [],
   "source": [
    "# Code for ridge and lasso largely taken and adjusted from lecture 4.03. "
   ]
  },
  {
   "cell_type": "code",
   "execution_count": 18,
   "id": "938d47eb-2ca6-4093-9d03-626cb0db4697",
   "metadata": {},
   "outputs": [],
   "source": [
    "# Import Ridge Regressor:\n",
    "from sklearn.linear_model import Ridge\n",
    "from sklearn.preprocessing import StandardScaler\n",
    "from sklearn.linear_model import RidgeCV"
   ]
  },
  {
   "cell_type": "code",
   "execution_count": 16,
   "id": "c9f6fba9-7ad4-4854-9066-fc20689ab548",
   "metadata": {},
   "outputs": [],
   "source": [
    "train_df.drop(columns = ['id', 'saleprice']).columns\n",
    "\n",
    "X = train_df[features]\n",
    "y = train_df['saleprice']"
   ]
  },
  {
   "cell_type": "code",
   "execution_count": 17,
   "id": "842ebfea-301c-42a2-b528-ade07183cd4b",
   "metadata": {},
   "outputs": [],
   "source": [
    "# Perform train-test-split\n",
    "X_train, X_test, y_train, y_test = train_test_split(\n",
    "    X,\n",
    "    y,\n",
    "    test_size=0.7,\n",
    "    random_state=42\n",
    ")"
   ]
  },
  {
   "cell_type": "code",
   "execution_count": 19,
   "id": "158e2c21-5c45-4e1b-8603-99821c329e3d",
   "metadata": {},
   "outputs": [],
   "source": [
    "# Scale our data. Can help deal with outliers.\n",
    "sc = StandardScaler()\n",
    "Z_train = sc.fit_transform(X_train)\n",
    "Z_test = sc.transform(X_test)"
   ]
  },
  {
   "cell_type": "code",
   "execution_count": 20,
   "id": "6e432693-a227-4f83-8e38-fcf29339676f",
   "metadata": {},
   "outputs": [
    {
     "data": {
      "text/plain": [
       "LinearRegression()"
      ]
     },
     "execution_count": 20,
     "metadata": {},
     "output_type": "execute_result"
    }
   ],
   "source": [
    "# First, do linear Regression on scaled train dataa.\n",
    "ols = LinearRegression()\n",
    "\n",
    "ols.fit(Z_train, y_train)"
   ]
  },
  {
   "cell_type": "code",
   "execution_count": 21,
   "id": "37832827-e99d-4550-adb2-8f20d2417171",
   "metadata": {},
   "outputs": [
    {
     "name": "stdout",
     "output_type": "stream",
     "text": [
      "Training Score: 0.7646405727141498\n",
      "Testing Score: 0.791789477659241\n"
     ]
    }
   ],
   "source": [
    "# Get the training and testing scores to compare.\n",
    "print(f'Training Score: {ols.score(Z_train, y_train)}')\n",
    "print(f'Testing Score: {ols.score(Z_test, y_test)}')"
   ]
  },
  {
   "cell_type": "markdown",
   "id": "27beafb5-bf1d-40e2-856a-8c5c575f5e3f",
   "metadata": {},
   "source": [
    "The scaled transformed data performs quite similarly using a multiple linear regression model compared to the non-scaled baseline score."
   ]
  },
  {
   "cell_type": "code",
   "execution_count": 24,
   "id": "efd4374f-dfd1-4381-b205-1802cd385c6e",
   "metadata": {},
   "outputs": [
    {
     "name": "stdout",
     "output_type": "stream",
     "text": [
      "Training Score: 0.7579260379702784\n",
      "Testing Score: 0.791487630457381\n"
     ]
    }
   ],
   "source": [
    "# Perform Ridge fit to see how it affects the scores. Select a random alpha to begin.\n",
    "ridge = Ridge(alpha = 100)\n",
    "\n",
    "# Fit.\n",
    "ridge.fit(Z_train, y_train)\n",
    "\n",
    "# Evaluate model using R2.\n",
    "print(f'Training Score: {ridge.score(Z_train, y_train)}')\n",
    "print(f'Testing Score: {ridge.score(Z_test, y_test)}')"
   ]
  },
  {
   "cell_type": "code",
   "execution_count": 25,
   "id": "e068af61-44ea-44fe-b3cb-7df2a20c98e7",
   "metadata": {
    "tags": []
   },
   "outputs": [
    {
     "data": {
      "text/plain": [
       "RidgeCV(alphas=array([1.00000000e+00, 1.12332403e+00, 1.26185688e+00, 1.41747416e+00,\n",
       "       1.59228279e+00, 1.78864953e+00, 2.00923300e+00, 2.25701972e+00,\n",
       "       2.53536449e+00, 2.84803587e+00, 3.19926714e+00, 3.59381366e+00,\n",
       "       4.03701726e+00, 4.53487851e+00, 5.09413801e+00, 5.72236766e+00,\n",
       "       6.42807312e+00, 7.22080902e+00, 8.11130831e+00, 9.11162756e+00,\n",
       "       1.02353102e+01, 1.14975700e+0...\n",
       "       6.89261210e+03, 7.74263683e+03, 8.69749003e+03, 9.77009957e+03,\n",
       "       1.09749877e+04, 1.23284674e+04, 1.38488637e+04, 1.55567614e+04,\n",
       "       1.74752840e+04, 1.96304065e+04, 2.20513074e+04, 2.47707636e+04,\n",
       "       2.78255940e+04, 3.12571585e+04, 3.51119173e+04, 3.94420606e+04,\n",
       "       4.43062146e+04, 4.97702356e+04, 5.59081018e+04, 6.28029144e+04,\n",
       "       7.05480231e+04, 7.92482898e+04, 8.90215085e+04, 1.00000000e+05]),\n",
       "        cv=5)"
      ]
     },
     "execution_count": 25,
     "metadata": {},
     "output_type": "execute_result"
    }
   ],
   "source": [
    "# To find the best alpha value, have to cross validate which, as learned in lecture, \n",
    "# we use np.logspace generates 100 values equally between 0 and 5, then convert them to alphas \n",
    "# between 10^0 and 10^5.\n",
    "\n",
    "alphas = np.logspace(0,5, 100)\n",
    "\n",
    "# RidgeCV will cross-validate over our list of ridge alphas.\n",
    "ridge_cv = RidgeCV(alphas = alphas, cv = 5)\n",
    "\n",
    "# RidgeCV will fit the model using best ridge alpha!\n",
    "ridge_cv.fit(Z_train, y_train)"
   ]
  },
  {
   "cell_type": "code",
   "execution_count": 26,
   "id": "680fa883-4c28-4be9-b164-0913a4571dcf",
   "metadata": {},
   "outputs": [
    {
     "name": "stdout",
     "output_type": "stream",
     "text": [
      "0.7563212999908334\n",
      "0.7906976531956161\n"
     ]
    }
   ],
   "source": [
    "print(ridge_cv.score(Z_train, y_train))\n",
    "print(ridge_cv.score(Z_test, y_test))"
   ]
  },
  {
   "cell_type": "markdown",
   "id": "d32d32fe-940e-4e7f-bd53-40f16c45e8f4",
   "metadata": {},
   "source": [
    "Model is performing better in terms of R2 on the testing set, whereas can see that the R2 score of the training set has decreased, suggesting the model was potentially overfit."
   ]
  },
  {
   "cell_type": "code",
   "execution_count": 28,
   "id": "44907e5f-b7ca-46b4-af26-db08d6af08a4",
   "metadata": {},
   "outputs": [
    {
     "name": "stderr",
     "output_type": "stream",
     "text": [
      "/Users/makenamaryannejones/opt/anaconda3/lib/python3.9/site-packages/sklearn/base.py:443: UserWarning: X has feature names, but Ridge was fitted without feature names\n",
      "  warnings.warn(\n"
     ]
    }
   ],
   "source": [
    "ridge_preds = ridge.predict(test_df[features])"
   ]
  },
  {
   "cell_type": "code",
   "execution_count": 29,
   "id": "d1d03cc9-5d35-4a12-9ea1-68a5a1e4dacc",
   "metadata": {},
   "outputs": [],
   "source": [
    "test_df['saleprice'] = ridge_preds"
   ]
  },
  {
   "cell_type": "code",
   "execution_count": 30,
   "id": "985cf47a-c257-42d5-a52c-495b875d06cf",
   "metadata": {},
   "outputs": [],
   "source": [
    "test_df[['id','saleprice']].to_csv('../datasets/ridge_model.csv', index = False)"
   ]
  },
  {
   "cell_type": "markdown",
   "id": "bf2c33c8-4f26-441b-8e66-1ba7c71c6fda",
   "metadata": {},
   "source": [
    "---\n",
    "### Lasso Model\n",
    "---"
   ]
  },
  {
   "cell_type": "code",
   "execution_count": 51,
   "id": "0fa87437-e4e9-4c95-8b90-150cb72047e1",
   "metadata": {},
   "outputs": [],
   "source": [
    "# Imports similar to Ridge\n",
    "from sklearn.linear_model import Lasso, LassoCV"
   ]
  },
  {
   "cell_type": "code",
   "execution_count": 52,
   "id": "f2ed78a3-dd2f-431e-91ea-705ab4bd8810",
   "metadata": {},
   "outputs": [
    {
     "data": {
      "text/plain": [
       "LassoCV(alphas=array([0.001     , 0.00107227, 0.00114976, 0.00123285, 0.00132194,\n",
       "       0.00141747, 0.00151991, 0.00162975, 0.00174753, 0.00187382,\n",
       "       0.00200923, 0.00215443, 0.00231013, 0.00247708, 0.00265609,\n",
       "       0.00284804, 0.00305386, 0.00327455, 0.00351119, 0.00376494,\n",
       "       0.00403702, 0.00432876, 0.00464159, 0.00497702, 0.0053367 ,\n",
       "       0.00572237, 0.00613591, 0.00657933, 0.0070548 , 0.00756463,\n",
       "       0.008...\n",
       "       0.09326033, 0.1       , 0.10722672, 0.1149757 , 0.12328467,\n",
       "       0.13219411, 0.14174742, 0.15199111, 0.16297508, 0.17475284,\n",
       "       0.18738174, 0.2009233 , 0.21544347, 0.23101297, 0.24770764,\n",
       "       0.26560878, 0.28480359, 0.30538555, 0.32745492, 0.35111917,\n",
       "       0.37649358, 0.40370173, 0.43287613, 0.46415888, 0.49770236,\n",
       "       0.53366992, 0.57223677, 0.61359073, 0.65793322, 0.70548023,\n",
       "       0.75646333, 0.81113083, 0.869749  , 0.93260335, 1.        ]))"
      ]
     },
     "execution_count": 52,
     "metadata": {},
     "output_type": "execute_result"
    }
   ],
   "source": [
    "# Set up a list of Lasso alphas to check.\n",
    "l_alphas = np.logspace(-3, 0, 100)\n",
    "# Cross-validate over our list of Lasso alphas.\n",
    "lasso_cv = LassoCV(alphas = l_alphas)\n",
    "# Fit model using best ridge alpha!\n",
    "lasso_cv.fit(Z_train, y_train)"
   ]
  },
  {
   "cell_type": "code",
   "execution_count": 53,
   "id": "5ef500ef-2804-46bb-9c60-ccbc19c60ecd",
   "metadata": {},
   "outputs": [
    {
     "data": {
      "text/plain": [
       "1.0"
      ]
     },
     "execution_count": 53,
     "metadata": {},
     "output_type": "execute_result"
    }
   ],
   "source": [
    "# Here is the optimal value of alpha\n",
    "lasso_cv.alpha_"
   ]
  },
  {
   "cell_type": "code",
   "execution_count": 54,
   "id": "1ef65307-8049-4712-bbce-da0e05292d43",
   "metadata": {},
   "outputs": [
    {
     "name": "stdout",
     "output_type": "stream",
     "text": [
      "0.7646405654147366\n",
      "0.7918074895025379\n"
     ]
    }
   ],
   "source": [
    "print(lasso_cv.score(Z_train, y_train))\n",
    "print(lasso_cv.score(Z_test, y_test))"
   ]
  },
  {
   "cell_type": "code",
   "execution_count": 55,
   "id": "2906512a-b233-432f-b9c6-d8d90d58c2fc",
   "metadata": {},
   "outputs": [],
   "source": [
    "lasso_coefs = lasso_cv.coef_"
   ]
  },
  {
   "cell_type": "code",
   "execution_count": 56,
   "id": "c5af88fc-9494-4713-97a5-ee0f04f2e012",
   "metadata": {},
   "outputs": [
    {
     "data": {
      "text/plain": [
       "0     -2510.710464\n",
       "1     11747.063967\n",
       "2     25961.467100\n",
       "3     30952.436939\n",
       "4       592.747392\n",
       "5    -15585.887355\n",
       "6      -584.664996\n",
       "7     -2116.583488\n",
       "8     -3331.119258\n",
       "9     -5738.592759\n",
       "10     1142.124386\n",
       "11     8887.946240\n",
       "12      830.525531\n",
       "13     -244.280911\n",
       "14     1582.673711\n",
       "15     2847.521653\n",
       "16      891.259397\n",
       "17    -6186.092080\n",
       "18     8609.224498\n",
       "19    -8340.504134\n",
       "dtype: float64"
      ]
     },
     "execution_count": 56,
     "metadata": {},
     "output_type": "execute_result"
    }
   ],
   "source": [
    "pd.Series(lasso_coefs)"
   ]
  },
  {
   "cell_type": "code",
   "execution_count": 60,
   "id": "68cdf44e-0e2f-4787-9dd9-86fba3a7caae",
   "metadata": {},
   "outputs": [
    {
     "data": {
      "text/plain": [
       "overall_qual          30952.436939\n",
       "gr_liv_area           25961.467100\n",
       "garage_area           11747.063967\n",
       "house_style_1Story     8887.946240\n",
       "no_pool                8609.224498\n",
       "house_style_SFoyer     2847.521653\n",
       "house_style_2Story     1582.673711\n",
       "house_style_1.5Unf     1142.124386\n",
       "house_style_SLvl        891.259397\n",
       "house_style_2.5Fin      830.525531\n",
       "total_bsmt_sf           592.747392\n",
       "house_style_2.5Unf     -244.280911\n",
       "bldg_type_2fmCon       -584.664996\n",
       "bldg_type_Duplex      -2116.583488\n",
       "lot_area              -2510.710464\n",
       "bldg_type_Twnhs       -3331.119258\n",
       "bldg_type_TwnhsE      -5738.592759\n",
       "not_remodeled         -6186.092080\n",
       "no_fireplace          -8340.504134\n",
       "age                  -15585.887355\n",
       "dtype: float64"
      ]
     },
     "execution_count": 60,
     "metadata": {},
     "output_type": "execute_result"
    }
   ],
   "source": [
    "pd.Series(lasso_coefs, X.columns).sort_values(ascending = False)"
   ]
  },
  {
   "cell_type": "markdown",
   "id": "dbe710a8-e9ce-4310-b5fa-b65633bc52b9",
   "metadata": {},
   "source": [
    "# Interpreting the Lasso coefficients:\n",
    "Looking at the coefficients, all features in model seem to have a strong affect on our target variable, house sale price."
   ]
  },
  {
   "cell_type": "code",
   "execution_count": 59,
   "id": "6bb69aac-fe1f-438c-8414-624007d531c8",
   "metadata": {},
   "outputs": [
    {
     "name": "stderr",
     "output_type": "stream",
     "text": [
      "/Users/makenamaryannejones/opt/anaconda3/lib/python3.9/site-packages/sklearn/base.py:443: UserWarning: X has feature names, but LassoCV was fitted without feature names\n",
      "  warnings.warn(\n"
     ]
    }
   ],
   "source": [
    "# Save lasso predictions.\n",
    "lasso_preds = lasso_cv.predict(test_df[features])\n",
    "test_df['saleprice'] = lasso_preds\n",
    "test_df[['id','saleprice']].to_csv('../datasets/lasso_model.csv', index = False)"
   ]
  },
  {
   "cell_type": "markdown",
   "id": "83e5d675-a40f-4269-b08e-fce2acd3a8c2",
   "metadata": {},
   "source": [
    "---\n",
    "## Conclusion\n",
    "---"
   ]
  },
  {
   "cell_type": "markdown",
   "id": "9130240a-2d4f-42ba-82b2-52b206fc6145",
   "metadata": {},
   "source": [
    "To answer my problem statement, certain features are undoubtably associated with higher prices, but they seem to be structural and hard to necessarily change for a homeowner or realtor looking to increase the market price of a home.\n",
    "\n",
    "Type of home and style of home are associated with higher prices, just as older homes are associated with lower prices.\n",
    "\n",
    "To isolate what features are possible to ameliorate or add without the cost surpassing the increasae in the sale price of the house, further analysis would have to be done."
   ]
  }
 ],
 "metadata": {
  "kernelspec": {
   "display_name": "Python 3 (ipykernel)",
   "language": "python",
   "name": "python3"
  },
  "language_info": {
   "codemirror_mode": {
    "name": "ipython",
    "version": 3
   },
   "file_extension": ".py",
   "mimetype": "text/x-python",
   "name": "python",
   "nbconvert_exporter": "python",
   "pygments_lexer": "ipython3",
   "version": "3.9.13"
  }
 },
 "nbformat": 4,
 "nbformat_minor": 5
}
