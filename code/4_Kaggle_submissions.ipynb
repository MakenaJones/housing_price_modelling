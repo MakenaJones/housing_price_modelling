{
 "cells": [
  {
   "cell_type": "markdown",
   "id": "b6ce5405-3cd9-4a7b-bc72-57061667a179",
   "metadata": {},
   "source": [
    "---\n",
    "# Project 2 : Ames Housing Data and Kaggle Challenge\n",
    "---"
   ]
  },
  {
   "cell_type": "markdown",
   "id": "31c75f8d-6fd2-4f50-a3bb-8c35c95a17d4",
   "metadata": {},
   "source": [
    " ## Part VI. Kaggle Submission\n",
    "---\n"
   ]
  },
  {
   "cell_type": "markdown",
   "id": "5b488f2a-ac8c-4d39-bea1-dfedce603ab2",
   "metadata": {},
   "source": [
    "Create predictions of sales prices based on a regression model, formatted to submit to the kaggle competition. This was the model that gave the best score in the competition."
   ]
  },
  {
   "cell_type": "code",
   "execution_count": 9,
   "id": "44715170-5c3c-46a8-b320-f0c23ede8e1e",
   "metadata": {
    "tags": []
   },
   "outputs": [],
   "source": [
    "import pandas as pd\n",
    "import numpy as np\n",
    "from sklearn.model_selection import train_test_split, cross_val_score\n",
    "from sklearn.linear_model import LinearRegression"
   ]
  },
  {
   "cell_type": "code",
   "execution_count": 10,
   "id": "0023065f-dbd4-462a-9d09-892f9c107853",
   "metadata": {
    "tags": []
   },
   "outputs": [],
   "source": [
    "# Read in the train and test data.\n",
    "train_df = pd.read_csv('../datasets/train_clean.csv')\n",
    "kaggle_df = pd.read_csv('../datasets/test_clean.csv')"
   ]
  },
  {
   "cell_type": "code",
   "execution_count": 12,
   "id": "77baa9e2-6e2d-4fe3-838c-200a39c95904",
   "metadata": {},
   "outputs": [
    {
     "data": {
      "text/plain": [
       "0.7543941195948427"
      ]
     },
     "execution_count": 12,
     "metadata": {},
     "output_type": "execute_result"
    }
   ],
   "source": [
    "# After playing around with the features, this model got the best score.\n",
    "\n",
    "# Altered features to include.\n",
    "features2 = ['overall_qual', 'gr_liv_area', 'garage_area', 'total_bsmt_sf', 'age', 'lot_area']\n",
    "X = train_df[features2]\n",
    "y= train_df['saleprice']\n",
    "\n",
    "# Train-test split.\n",
    "X_train, X_test, y_train, y_test = train_test_split(X, y, random_state = 42)\n",
    "lr = LinearRegression()\n",
    "lr.fit(X_train, y_train)\n",
    "\n",
    "# Make predictions for sale price.\n",
    "kaggle_preds = lr.predict(kaggle_df[features2])\n",
    "kaggle_df['saleprice'] = kaggle_preds\n",
    "\n",
    "# Save predictions as csv to submit.\n",
    "kaggle_df[['id','saleprice']].to_csv('Kaggle_model.csv', index = False)\n",
    "\n",
    "cross_val_score(lr, X_train, y_train, cv = 5).mean()"
   ]
  },
  {
   "cell_type": "markdown",
   "id": "c4f681e8-1df0-4b53-9bd5-86f2f0d04a85",
   "metadata": {},
   "source": [
    "Cross val score is slightly lower than the one from the multiple linear regression model used for my main model."
   ]
  }
 ],
 "metadata": {
  "kernelspec": {
   "display_name": "Python 3 (ipykernel)",
   "language": "python",
   "name": "python3"
  },
  "language_info": {
   "codemirror_mode": {
    "name": "ipython",
    "version": 3
   },
   "file_extension": ".py",
   "mimetype": "text/x-python",
   "name": "python",
   "nbconvert_exporter": "python",
   "pygments_lexer": "ipython3",
   "version": "3.9.13"
  }
 },
 "nbformat": 4,
 "nbformat_minor": 5
}
